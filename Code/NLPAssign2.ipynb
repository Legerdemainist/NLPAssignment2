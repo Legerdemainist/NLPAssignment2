{
  "nbformat": 4,
  "nbformat_minor": 0,
  "metadata": {
    "colab": {
      "name": "Untitled0.ipynb",
      "provenance": [],
      "collapsed_sections": [],
      "machine_shape": "hm"
    },
    "kernelspec": {
      "name": "python3",
      "display_name": "Python 3"
    },
    "accelerator": "GPU"
  },
  "cells": [
    {
      "cell_type": "code",
      "metadata": {
        "id": "92Z-bEE29php",
        "colab_type": "code",
        "outputId": "c2b6022a-6f40-4323-815b-372fa7594468",
        "colab": {
          "base_uri": "https://localhost:8080/",
          "height": 128
        }
      },
      "source": [
        "from google.colab import drive\n",
        "drive.mount('/content/drive')"
      ],
      "execution_count": 2,
      "outputs": [
        {
          "output_type": "stream",
          "text": [
            "Go to this URL in a browser: https://accounts.google.com/o/oauth2/auth?client_id=947318989803-6bn6qk8qdgf4n4g3pfee6491hc0brc4i.apps.googleusercontent.com&redirect_uri=urn%3aietf%3awg%3aoauth%3a2.0%3aoob&response_type=code&scope=email%20https%3a%2f%2fwww.googleapis.com%2fauth%2fdocs.test%20https%3a%2f%2fwww.googleapis.com%2fauth%2fdrive%20https%3a%2f%2fwww.googleapis.com%2fauth%2fdrive.photos.readonly%20https%3a%2f%2fwww.googleapis.com%2fauth%2fpeopleapi.readonly\n",
            "\n",
            "Enter your authorization code:\n",
            "··········\n",
            "Mounted at /content/drive\n"
          ],
          "name": "stdout"
        }
      ]
    },
    {
      "cell_type": "code",
      "metadata": {
        "id": "M_rErv3Vtove",
        "colab_type": "code",
        "outputId": "97732811-534f-475c-bc33-f957ea462898",
        "colab": {
          "base_uri": "https://localhost:8080/",
          "height": 351
        }
      },
      "source": [
        "import pandas as pd\n",
        "from sklearn.model_selection import train_test_split\n",
        "import numpy as np\n",
        "import nltk\n",
        "import random\n",
        "nltk.download('punkt')\n",
        "nltk.download('stopwords')\n",
        "nltk.download('movie_reviews')\n",
        "nltk.download('wordnet')\n",
        "url=\"https://raw.githubusercontent.com/cacoderquan/Sentiment-Analysis-on-the-Rotten-Tomatoes-movie-review-dataset/master/train.tsv\"\n",
        "data=pd.read_csv(url, sep='\\t')\n",
        "data.head()"
      ],
      "execution_count": 3,
      "outputs": [
        {
          "output_type": "stream",
          "text": [
            "[nltk_data] Downloading package punkt to /root/nltk_data...\n",
            "[nltk_data]   Unzipping tokenizers/punkt.zip.\n",
            "[nltk_data] Downloading package stopwords to /root/nltk_data...\n",
            "[nltk_data]   Unzipping corpora/stopwords.zip.\n",
            "[nltk_data] Downloading package movie_reviews to /root/nltk_data...\n",
            "[nltk_data]   Unzipping corpora/movie_reviews.zip.\n",
            "[nltk_data] Downloading package wordnet to /root/nltk_data...\n",
            "[nltk_data]   Unzipping corpora/wordnet.zip.\n"
          ],
          "name": "stdout"
        },
        {
          "output_type": "execute_result",
          "data": {
            "text/html": [
              "<div>\n",
              "<style scoped>\n",
              "    .dataframe tbody tr th:only-of-type {\n",
              "        vertical-align: middle;\n",
              "    }\n",
              "\n",
              "    .dataframe tbody tr th {\n",
              "        vertical-align: top;\n",
              "    }\n",
              "\n",
              "    .dataframe thead th {\n",
              "        text-align: right;\n",
              "    }\n",
              "</style>\n",
              "<table border=\"1\" class=\"dataframe\">\n",
              "  <thead>\n",
              "    <tr style=\"text-align: right;\">\n",
              "      <th></th>\n",
              "      <th>PhraseId</th>\n",
              "      <th>SentenceId</th>\n",
              "      <th>Phrase</th>\n",
              "      <th>Sentiment</th>\n",
              "    </tr>\n",
              "  </thead>\n",
              "  <tbody>\n",
              "    <tr>\n",
              "      <th>0</th>\n",
              "      <td>1</td>\n",
              "      <td>1</td>\n",
              "      <td>A series of escapades demonstrating the adage ...</td>\n",
              "      <td>1</td>\n",
              "    </tr>\n",
              "    <tr>\n",
              "      <th>1</th>\n",
              "      <td>2</td>\n",
              "      <td>1</td>\n",
              "      <td>A series of escapades demonstrating the adage ...</td>\n",
              "      <td>2</td>\n",
              "    </tr>\n",
              "    <tr>\n",
              "      <th>2</th>\n",
              "      <td>3</td>\n",
              "      <td>1</td>\n",
              "      <td>A series</td>\n",
              "      <td>2</td>\n",
              "    </tr>\n",
              "    <tr>\n",
              "      <th>3</th>\n",
              "      <td>4</td>\n",
              "      <td>1</td>\n",
              "      <td>A</td>\n",
              "      <td>2</td>\n",
              "    </tr>\n",
              "    <tr>\n",
              "      <th>4</th>\n",
              "      <td>5</td>\n",
              "      <td>1</td>\n",
              "      <td>series</td>\n",
              "      <td>2</td>\n",
              "    </tr>\n",
              "  </tbody>\n",
              "</table>\n",
              "</div>"
            ],
            "text/plain": [
              "   PhraseId  ...  Sentiment\n",
              "0         1  ...          1\n",
              "1         2  ...          2\n",
              "2         3  ...          2\n",
              "3         4  ...          2\n",
              "4         5  ...          2\n",
              "\n",
              "[5 rows x 4 columns]"
            ]
          },
          "metadata": {
            "tags": []
          },
          "execution_count": 3
        }
      ]
    },
    {
      "cell_type": "code",
      "metadata": {
        "id": "pWh7ENMvelau",
        "colab_type": "code",
        "colab": {
          "base_uri": "https://localhost:8080/",
          "height": 483
        },
        "outputId": "26a82045-fefb-4707-d131-21de2e3e005d"
      },
      "source": [
        "import matplotlib.pyplot as plt\n",
        "\n",
        "dist = data.groupby([\"Sentiment\"]).size()\n",
        "#dist = dist / dist.sum()\n",
        "fig, ax = plt.subplots(figsize=(12,8))\n",
        "plt.bar(dist.keys(), dist.values);"
      ],
      "execution_count": 4,
      "outputs": [
        {
          "output_type": "display_data",
          "data": {
            "image/png": "[encoded data removed]",
            "text/plain": [
              "<Figure size 864x576 with 1 Axes>"
            ]
          },
          "metadata": {
            "tags": []
          }
        }
      ]
    },
    {
      "cell_type": "code",
      "metadata": {
        "id": "xnT5gNbHfS0R",
        "colab_type": "code",
        "colab": {
          "base_uri": "https://localhost:8080/",
          "height": 35
        },
        "outputId": "b32cf424-88b5-468c-f5ee-5fe66d3998b3"
      },
      "source": [
        "X = data['Phrase'].to_numpy()\n",
        "y = data['Sentiment'].to_numpy()\n",
        "msg_train,msg_test,label_train,label_test = train_test_split(X,y, test_size=0.3, random_state=2003)\n",
        "xpd = pd.DataFrame(msg_train, columns=['text'])\n",
        "ypd = pd.DataFrame(label_train, columns=['sentiment'])\n",
        "print(xpd.shape, \"::\", ypd.shape)\n",
        "#all_data = pd.DataFrame([xpd, data['Sentiment']], columns=['text', 'sentiment'])\n",
        "all_data = pd.concat([xpd, ypd], axis=1)\n",
        "#all_data.head()"
      ],
      "execution_count": 5,
      "outputs": [
        {
          "output_type": "stream",
          "text": [
            "(109242, 1) :: (109242, 1)\n"
          ],
          "name": "stdout"
        }
      ]
    },
    {
      "cell_type": "code",
      "metadata": {
        "id": "WSgb82RtesOw",
        "colab_type": "code",
        "colab": {
          "base_uri": "https://localhost:8080/",
          "height": 483
        },
        "outputId": "d4a5995e-6dc7-405d-ecaf-e907261901e0"
      },
      "source": [
        "sent_0 = all_data[all_data['sentiment']==0]\n",
        "sent_1 = all_data[all_data['sentiment']==1]\n",
        "sent_2 = all_data[all_data['sentiment']==2]\n",
        "sent_3 = all_data[all_data['sentiment']==3]\n",
        "sent_4 = all_data[all_data['sentiment']==4]\n",
        "\n",
        "\n",
        "all_data = all_data.append([sent_0,sent_0,sent_0,sent_0,sent_0,sent_0,sent_0,sent_0,sent_0,sent_0])\n",
        "all_data = all_data.append([sent_1,sent_1])\n",
        "all_data = all_data.append([sent_3])\n",
        "all_data = all_data.append([sent_4,sent_4,sent_4,sent_4,sent_4,sent_4,sent_4])\n",
        "\n",
        "dist = all_data.groupby([\"sentiment\"]).size()\n",
        "#dist = dist / dist.sum()\n",
        "fig, ax = plt.subplots(figsize=(12,8))\n",
        "plt.bar(dist.keys(), dist.values);"
      ],
      "execution_count": 6,
      "outputs": [
        {
          "output_type": "display_data",
          "data": {
            "image/png": "[encoded data removed]",
            "text/plain": [
              "<Figure size 864x576 with 1 Axes>"
            ]
          },
          "metadata": {
            "tags": []
          }
        }
      ]
    },
    {
      "cell_type": "code",
      "metadata": {
        "id": "-5biAXoHtyt5",
        "colab_type": "code",
        "colab": {}
      },
      "source": [
        "from nltk.corpus import stopwords\n",
        "from nltk.tokenize import word_tokenize\n",
        "from nltk.stem import WordNetLemmatizer, PorterStemmer, LancasterStemmer\n",
        "\n",
        "def prepro(X):\n",
        "  stop_words = set(stopwords.words('english'))\n",
        "  punctuations = \"\"\"?:!.,;'-`()~/*%^!@\"#$_\"\"\"\n",
        "  porter = PorterStemmer()\n",
        "  lancaster = LancasterStemmer()\n",
        "  wordnet = WordNetLemmatizer()\n",
        "\n",
        "  remove_stopwords = True\n",
        "  useStemming = True\n",
        "  useLemma = True\n",
        "  removePuncs = True\n",
        "\n",
        "  for l in range(len(X)):\n",
        "    #print(l)\n",
        "    #label = documents[l][1]\n",
        "    tempReview = []\n",
        "    words = nltk.word_tokenize(X[l])\n",
        "    for w in words:\n",
        "      newWord = w\n",
        "      if remove_stopwords and (w in stop_words):\n",
        "        continue\n",
        "      if removePuncs and (w in punctuations):\n",
        "        continue\n",
        "      if useStemming:\n",
        "        newWord = porter.stem(newWord)\n",
        "        #newWord = lancaster.stem(newWord)\n",
        "      if useLemma:\n",
        "        newWord = wordnet.lemmatize(newWord)\n",
        "      tempReview.append(newWord)\n",
        "    X[l] = (' '.join(tempReview))\n",
        "  print(X[1])\n",
        "  return X"
      ],
      "execution_count": 0,
      "outputs": []
    },
    {
      "cell_type": "code",
      "metadata": {
        "id": "SHCi5rcYt0mn",
        "colab_type": "code",
        "outputId": "0487a5d8-9aff-4ec8-d631-dd3a3ee07739",
        "colab": {
          "base_uri": "https://localhost:8080/",
          "height": 53
        }
      },
      "source": [
        "msg_train = data['Phrase'].to_numpy()\n",
        "label_train = data['Sentiment'].to_numpy()\n",
        "msg_train = prepro(msg_train)\n",
        "msg_test = prepro(msg_test)"
      ],
      "execution_count": 8,
      "outputs": [
        {
          "output_type": "stream",
          "text": [
            "A seri escapad demonstr adag good goo\n",
            "mani definit\n"
          ],
          "name": "stdout"
        }
      ]
    },
    {
      "cell_type": "code",
      "metadata": {
        "id": "AUWJKlnEe7Ew",
        "colab_type": "code",
        "colab": {}
      },
      "source": [
        "from sklearn.feature_extraction.text import TfidfVectorizer\n",
        "from sklearn.feature_extraction.text import CountVectorizer"
      ],
      "execution_count": 0,
      "outputs": []
    },
    {
      "cell_type": "code",
      "metadata": {
        "id": "Z0q55Q3ke5Yr",
        "colab_type": "code",
        "colab": {}
      },
      "source": [
        "vec_length = 4096\n",
        "#vectorizer = CountVectorizer(stop_words='english', ngram_range=(1, 1))\n",
        "vectorizer = TfidfVectorizer(stop_words='english', ngram_range=(1, 1), max_features=4096)\n",
        "X = vectorizer.fit_transform(msg_train)\n",
        "Y = all_data['sentiment']\n",
        "x_train = vectorizer.transform(msg_train)\n",
        "y_train = label_train\n",
        "x_test = vectorizer.transform(msg_test)\n",
        "y_test = label_test\n",
        "x_train_np = x_train.toarray()\n",
        "y_train_np = np.array(y_train)\n",
        "x_test_np = x_test.toarray()\n",
        "y_test_np = np.array(y_test)"
      ],
      "execution_count": 0,
      "outputs": []
    },
    {
      "cell_type": "code",
      "metadata": {
        "id": "Ux5bEMHFe-0M",
        "colab_type": "code",
        "colab": {
          "base_uri": "https://localhost:8080/",
          "height": 101
        },
        "outputId": "633f0e00-703c-47e9-bfb5-50c69c8859fe"
      },
      "source": [
        "print(x_test_np.reshape(x_test_np.shape[0], x_test_np.shape[1], 1).shape)\n",
        "x_train_np = x_train_np.reshape(x_train_np.shape[0], x_train_np.shape[1], 1)\n",
        "x_test_np = x_test_np.reshape(x_test_np.shape[0], x_test_np.shape[1], 1)\n",
        "from keras.utils import to_categorical\n",
        "y_train_np = to_categorical(y_train_np)\n",
        "y_test_np = to_categorical(y_test_np)"
      ],
      "execution_count": 11,
      "outputs": [
        {
          "output_type": "stream",
          "text": [
            "(46818, 4096, 1)\n"
          ],
          "name": "stdout"
        },
        {
          "output_type": "stream",
          "text": [
            "Using TensorFlow backend.\n"
          ],
          "name": "stderr"
        },
        {
          "output_type": "display_data",
          "data": {
            "text/html": [
              "<p style=\"color: red;\">\n",
              "The default version of TensorFlow in Colab will soon switch to TensorFlow 2.x.<br>\n",
              "We recommend you <a href=\"https://www.tensorflow.org/guide/migrate\" target=\"_blank\">upgrade</a> now \n",
              "or ensure your notebook will continue to use TensorFlow 1.x via the <code>%tensorflow_version 1.x</code> magic:\n",
              "<a href=\"https://colab.research.google.com/notebooks/tensorflow_version.ipynb\" target=\"_blank\">more info</a>.</p>\n"
            ],
            "text/plain": [
              "<IPython.core.display.HTML object>"
            ]
          },
          "metadata": {
            "tags": []
          }
        }
      ]
    },
    {
      "cell_type": "code",
      "metadata": {
        "id": "ePm3kM54e8t-",
        "colab_type": "code",
        "colab": {}
      },
      "source": [
        "from tensorflow import keras\n",
        "from keras.models import Sequential\n",
        "from keras.layers import Conv1D, Dense, Flatten, Dropout, MaxPool1D, Embedding\n",
        "from keras.activations import relu"
      ],
      "execution_count": 0,
      "outputs": []
    },
    {
      "cell_type": "code",
      "metadata": {
        "id": "ucwuczH8fFNT",
        "colab_type": "code",
        "colab": {}
      },
      "source": [
        "from keras import backend as K\n",
        "\n",
        "def recall_m(y_true, y_pred):\n",
        "    true_positives = K.sum(K.round(K.clip(y_true * y_pred, 0, 1)))\n",
        "    possible_positives = K.sum(K.round(K.clip(y_true, 0, 1)))\n",
        "    recall = true_positives / (possible_positives + K.epsilon())\n",
        "    return recall\n",
        "\n",
        "def precision_m(y_true, y_pred):\n",
        "    true_positives = K.sum(K.round(K.clip(y_true * y_pred, 0, 1)))\n",
        "    predicted_positives = K.sum(K.round(K.clip(y_pred, 0, 1)))\n",
        "    precision = true_positives / (predicted_positives + K.epsilon())\n",
        "    return precision\n",
        "\n",
        "def f1_m(y_true, y_pred):\n",
        "    precision = precision_m(y_true, y_pred)\n",
        "    recall = recall_m(y_true, y_pred)\n",
        "    return 2*((precision*recall)/(precision+recall+K.epsilon()))"
      ],
      "execution_count": 0,
      "outputs": []
    },
    {
      "cell_type": "code",
      "metadata": {
        "id": "nguEHKayfDme",
        "colab_type": "code",
        "colab": {}
      },
      "source": [
        "num_classes = 5\n",
        "model = Sequential()\n",
        "model.add(Conv1D(256, 5, activation='relu', input_shape=x_train_np.shape[1:]))\n",
        "model.add(MaxPool1D(pool_size=2))\n",
        "model.add(Dropout(0.25))\n",
        "model.add(Conv1D(256, 5, activation='relu'))\n",
        "model.add(MaxPool1D(pool_size=2))\n",
        "model.add(Dropout(0.25))\n",
        "model.add(Conv1D(512, 3, activation='relu'))\n",
        "#model.add(MaxPool1D(pool_size=2))\n",
        "#model.add(Dropout(0.25))\n",
        "#model.add(Conv1D(128, 3, activation='relu'))\n",
        "#model.add(MaxPool1D(pool_size=2))\n",
        "#model.add(Dropout(0.25))\n",
        "#model.add(Conv1D(128, 3, activation='relu'))\n",
        "model.add(Flatten())\n",
        "model.add(Dense(256, activation='relu'))\n",
        "model.add(Dropout(0.25))\n",
        "model.add(Dense(128, activation='relu'))\n",
        "model.add(Dropout(0.5))\n",
        "model.add(Dense(num_classes, activation='softmax'))"
      ],
      "execution_count": 0,
      "outputs": []
    },
    {
      "cell_type": "code",
      "metadata": {
        "id": "4mUYscTyt-p3",
        "colab_type": "code",
        "colab": {}
      },
      "source": [
        "model.compile(loss=keras.losses.categorical_crossentropy,\n",
        "              optimizer='adam',\n",
        "              metrics=['accuracy',f1_m,precision_m, recall_m])\n",
        "#from keras.callbacks import ModelCheckpoint\n",
        "#file_path = \"best_model.hdf5\"\n",
        "#check_point = ModelCheckpoint(file_path, monitor = \"val_loss\", verbose = 1,\n",
        "#                              save_best_only = True, mode = \"min\")\n",
        "epochs = 20\n",
        "batch_size=32\n",
        "history = model.fit(x_train_np, y_train_np,\n",
        "            batch_size=batch_size,\n",
        "            epochs=epochs,\n",
        "            verbose=1,\n",
        "            validation_data=(x_test_np, y_test_np))\n"
      ],
      "execution_count": 0,
      "outputs": []
    },
    {
      "cell_type": "code",
      "metadata": {
        "id": "fXisSZ2oyoz5",
        "colab_type": "code",
        "colab": {}
      },
      "source": [
        "print(history.history.keys())\n",
        "plt.plot(history.history['acc'], label='training data')\n",
        "plt.plot(history.history['val_acc'], label='validation data')\n",
        "plt.ylabel('Accuracy')\n",
        "plt.xlabel('No. epoch')\n",
        "plt.legend(loc=\"upper left\")\n",
        "plt.show()"
      ],
      "execution_count": 0,
      "outputs": []
    },
    {
      "cell_type": "code",
      "metadata": {
        "id": "0mbIuhbsuuhQ",
        "colab_type": "code",
        "colab": {}
      },
      "source": [
        "model_save_name = '1121117_1dconv_class.h5'\n",
        "path = F\"/content/drive/My Drive/{model_save_name}\" \n",
        "model.save(path)"
      ],
      "execution_count": 0,
      "outputs": []
    },
    {
      "cell_type": "code",
      "metadata": {
        "id": "iKPP66KKxWCj",
        "colab_type": "code",
        "outputId": "d262bb21-8359-4fa1-8bf7-bcdefdee5f04",
        "colab": {
          "base_uri": "https://localhost:8080/",
          "height": 55
        }
      },
      "source": [
        "print(history.history['val_acc'])"
      ],
      "execution_count": 0,
      "outputs": [
        {
          "output_type": "stream",
          "text": [
            "[0.6776487778267497, 0.7159732063496625, 0.7310688413785775, 0.7426084201096604, 0.7505831404212625, 0.7532149741668284, 0.757448793670565, 0.7589891645924074, 0.7605207333941749, 0.7620963127936943, 0.7630733480632627, 0.76437606175672, 0.7634342349653532, 0.7647105422996348, 0.7660572665908442, 0.76437606175672, 0.7618234470871076, 0.768196181642113, 0.7676240438708132, 0.765124241918503]\n"
          ],
          "name": "stdout"
        }
      ]
    },
    {
      "cell_type": "code",
      "metadata": {
        "id": "A_fMwuJnhILi",
        "colab_type": "code",
        "colab": {}
      },
      "source": [
        "from keras.models import load_model\n",
        "model_save_name = '1121117_1dconv_class.h5'\n",
        "path = F\"/content/drive/My Drive/{model_save_name}\" \n",
        "model2 = load_model(path, custom_objects={'f1_m': f1_m, 'precision_m': precision_m, 'recall_m': recall_m})\n",
        "ev = model2.evaluate(x_test_np, y_test_np)"
      ],
      "execution_count": 0,
      "outputs": []
    }
  ]
}